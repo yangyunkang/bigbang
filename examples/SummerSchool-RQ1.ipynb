{
 "cells": [
  {
   "cell_type": "code",
   "execution_count": 14,
   "metadata": {
    "collapsed": true
   },
   "outputs": [],
   "source": [
    "from bigbang.archive import Archive\n",
    "from bigbang.archive import load as load_archive\n",
    "import bigbang.graph as graph\n",
    "import networkx as nx\n",
    "import os\n",
    "import pandas as pd"
   ]
  },
  {
   "cell_type": "code",
   "execution_count": 31,
   "metadata": {
    "collapsed": false
   },
   "outputs": [],
   "source": [
    "\n",
    "icann_path = \"../archives/http:/mm.icann.org/pipermail\"\n",
    "ncuc_path = \"../archives/http:/lists.ncuc.org/pipermail\"\n",
    "\n",
    "paths = [os.path.join(icann_path,\"ipc-gnso.csv\"),\n",
    "        os.path.join(icann_path,\"wp4.csv\"),\n",
    "         os.path.join(icann_path,\"alac.csv\"),\n",
    "         os.path.join(icann_path,\"gnso-rds-pdp-wg.csv\"),\n",
    "         os.path.join(icann_path,\"accountability-cross-community.csv\"),\n",
    "        os.path.join(icann_path,\"cc-humanrights.csv\"),\n",
    "        os.path.join(ncuc_path,\"ncuc-discuss.csv\")]\n",
    "\n",
    "datas = [load_archive(path).data for path in paths]\n",
    "         \n",
    "arx = Archive(pd.concat(datas))"
   ]
  },
  {
   "cell_type": "code",
   "execution_count": 32,
   "metadata": {
    "collapsed": false
   },
   "outputs": [],
   "source": [
    "G = graph.messages_to_interaction_graph(arx.data)"
   ]
  },
  {
   "cell_type": "code",
   "execution_count": 33,
   "metadata": {
    "collapsed": false
   },
   "outputs": [],
   "source": [
    "nx.write_gexf(G,\"icann_interact.gexf\")"
   ]
  }
 ],
 "metadata": {
  "kernelspec": {
   "display_name": "Python 2",
   "language": "python",
   "name": "python2"
  },
  "language_info": {
   "codemirror_mode": {
    "name": "ipython",
    "version": 2
   },
   "file_extension": ".py",
   "mimetype": "text/x-python",
   "name": "python",
   "nbconvert_exporter": "python",
   "pygments_lexer": "ipython2",
   "version": "2.7.11"
  }
 },
 "nbformat": 4,
 "nbformat_minor": 0
}
