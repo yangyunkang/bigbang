{
 "cells": [
  {
   "cell_type": "markdown",
   "metadata": {},
   "source": [
    "<b>This notebook divide a single mailing list corpus into threads.</b> \n",
    "\n",
    "What it does:\n",
    "-identifies the more participated threads\n",
    "-identifies the long lasting threads\n",
    "-export each thread's emails into seperate .csv files, setting thresholds of participation and duration\n",
    "\n",
    "Parameters to set options:\n",
    "-set a single URL related to a mailing list, setting the 'url' variable\n",
    "-it exports files in the file path specified in the variable ‘path’\n",
    "-you can set a threshold of participation and of duration for the threads to export, by setting 'min_participation' and 'min_duration' variables"
   ]
  },
  {
   "cell_type": "code",
   "execution_count": 1,
   "metadata": {
    "collapsed": false
   },
   "outputs": [
    {
     "name": "stderr",
     "output_type": "stream",
     "text": [
      "/Users/yunkangyang/anaconda/envs/bigbang/lib/python2.7/site-packages/matplotlib/font_manager.py:273: UserWarning: Matplotlib is building the font cache using fc-list. This may take a moment.\n",
      "  warnings.warn('Matplotlib is building the font cache using fc-list. This may take a moment.')\n"
     ]
    }
   ],
   "source": [
    "%matplotlib inline\n",
    "from bigbang.archive import Archive\n",
    "from bigbang.thread import Thread\n",
    "from bigbang.thread import Node\n",
    "from bigbang.utils import remove_quoted\n",
    "import matplotlib.pyplot as plt\n",
    "import datetime\n",
    "import csv\n",
    "from collections import defaultdict"
   ]
  },
  {
   "cell_type": "markdown",
   "metadata": {},
   "source": [
    "First, collect data from a public email archive."
   ]
  },
  {
   "cell_type": "code",
   "execution_count": 2,
   "metadata": {
    "collapsed": false
   },
   "outputs": [
    {
     "name": "stdout",
     "output_type": "stream",
     "text": [
      "No data found at http://mm.icann.org/pipermail/wp4/. Attempting to collect data from URL.\n",
      "This could take a while.\n",
      "'Getting archive page for wp4'\n",
      "['2015-December.txt.gz',\n",
      " '2015-November.txt.gz',\n",
      " '2015-October.txt.gz',\n",
      " '2015-September.txt.gz',\n",
      " '2015-August.txt.gz']\n",
      "'retrieving http://mm.icann.org/pipermail/wp4/2015-December.txt.gz'\n",
      "200 - writing file to archives/wp4/2015-December.txt.gz\n",
      "'retrieving http://mm.icann.org/pipermail/wp4/2015-November.txt.gz'\n",
      "200 - writing file to archives/wp4/2015-November.txt.gz\n",
      "'retrieving http://mm.icann.org/pipermail/wp4/2015-October.txt.gz'\n",
      "200 - writing file to archives/wp4/2015-October.txt.gz\n",
      "'retrieving http://mm.icann.org/pipermail/wp4/2015-September.txt.gz'\n",
      "200 - writing file to archives/wp4/2015-September.txt.gz\n",
      "'retrieving http://mm.icann.org/pipermail/wp4/2015-August.txt.gz'\n",
      "200 - writing file to archives/wp4/2015-August.txt.gz\n",
      "unzipping 5 archive files\n",
      "Opening 5 archive files\n"
     ]
    },
    {
     "name": "stderr",
     "output_type": "stream",
     "text": [
      "/Users/yunkangyang/bigbang/bigbang/archive.py:73: FutureWarning: sort(columns=....) is deprecated, use sort_values(by=.....)\n",
      "  self.data.sort(columns='Date', inplace=True)\n"
     ]
    }
   ],
   "source": [
    "#insert one URL related to the mailing list of interest\n",
    "url = \"http://mm.icann.org/pipermail/wp4/\"\n",
    "\n",
    "\n",
    "arx = Archive(url,archive_dir=\"../archives\")"
   ]
  },
  {
   "cell_type": "markdown",
   "metadata": {},
   "source": [
    "Let's check the number of threads in this mailing list corpus"
   ]
  },
  {
   "cell_type": "code",
   "execution_count": 3,
   "metadata": {
    "collapsed": false
   },
   "outputs": [
    {
     "name": "stdout",
     "output_type": "stream",
     "text": [
      "38\n"
     ]
    }
   ],
   "source": [
    "print len(arx.get_threads())"
   ]
  },
  {
   "cell_type": "markdown",
   "metadata": {},
   "source": [
    "We can  plot the number of people participating in each thread."
   ]
  },
  {
   "cell_type": "code",
   "execution_count": 4,
   "metadata": {
    "collapsed": false,
    "scrolled": true
   },
   "outputs": [
    {
     "data": {
      "image/png": "[encoded data removed]",
      "text/plain": [
       "<matplotlib.figure.Figure at 0x1101be410>"
      ]
     },
     "metadata": {},
     "output_type": "display_data"
    }
   ],
   "source": [
    "n = [t.get_num_people() for t in arx.get_threads()]\n",
    "\n",
    "plt.hist(n, bins = 20)\n",
    "plt.xlabel('number of email-address in a thread')\n",
    "plt.show()"
   ]
  },
  {
   "cell_type": "markdown",
   "metadata": {},
   "source": [
    "The *duration* of a thread is the amount of elapsed time between its first and last message. \n",
    "\n",
    "Let's plot the number of threads per each number of days of duration\n"
   ]
  },
  {
   "cell_type": "code",
   "execution_count": 61,
   "metadata": {
    "collapsed": false
   },
   "outputs": [
    {
     "data": {
      "image/png": "[encoded data removed]",
      "text/plain": [
       "<matplotlib.figure.Figure at 0x9821830>"
      ]
     },
     "metadata": {},
     "output_type": "display_data"
    }
   ],
   "source": [
    "y = [t.get_duration().days for t in arx.get_threads()]\n",
    "\n",
    "plt.hist(y, bins = (10))\n",
    "plt.xlabel('duration of a thread(days)')\n",
    "plt.show()"
   ]
  },
  {
   "cell_type": "markdown",
   "metadata": {
    "collapsed": false
   },
   "source": [
    "Export the content of each thread into a .csv file (named: thread_1.csv, thread2.csv, ...).\n",
    "\n",
    "You can set a minimum level of participation and duration, based on the previous analyses"
   ]
  },
  {
   "cell_type": "code",
   "execution_count": 62,
   "metadata": {
    "collapsed": false
   },
   "outputs": [],
   "source": [
    "#Insert the participation threshold (number of people)\n",
    "#(for no threeshold: 'min_participation = 0') \n",
    "min_participation = 0\n",
    "\n",
    "#Insert the duration threshold (number of days)\n",
    "#(for no threeshold: 'min_duration = 0')\n",
    "min_duration = 0\n",
    "\n",
    "#Insert the directory path where to save the files\n",
    "path = 'c:/users/davide/bigbang/'\n",
    "\n",
    "\n",
    "\n",
    "i = 0\n",
    "for thread in arx.get_threads():\n",
    "    if thread.get_num_people() >= min_participation and thread.get_duration().days >= min_duration:\n",
    "            i += 1\n",
    "            f = open(path+'thread_'+str(i)+'.csv', \"wb\")\n",
    "            f_w = csv.writer(f)\n",
    "            f_w.writerow(thread.get_content())\n",
    "            f.close()"
   ]
  }
 ],
 "metadata": {
  "kernelspec": {
   "display_name": "Python 2",
   "language": "python",
   "name": "python2"
  },
  "language_info": {
   "codemirror_mode": {
    "name": "ipython",
    "version": 2
   },
   "file_extension": ".py",
   "mimetype": "text/x-python",
   "name": "python",
   "nbconvert_exporter": "python",
   "pygments_lexer": "ipython2",
   "version": "2.7.12"
  }
 },
 "nbformat": 4,
 "nbformat_minor": 0
}
