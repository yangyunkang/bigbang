{
 "cells": [
  {
   "cell_type": "markdown",
   "metadata": {},
   "source": [
    "## This note book gives the trend of multiple words in multiple mailing lists\n",
    "\n",
    "What it does:\n",
    "-it computes and plot word counts over time, on aggregated mailing lists' data.\n",
    "-it exports emails that contains selected words \n",
    "\n",
    "Parameters to set options:\n",
    "-it can track one or more words, according to the number of words set in the variable 'checkwords' \n",
    "-it can look in one or more mailing lists, according to how many urls are set; word counts are aggregated across mls\n",
    "-it can look at literal words or at stemmed words, according to the 'stem' parameter\n",
    "\n",
    "Useful extensions:\n",
    "-export dictionary with wordcount trends on individual mailing lists\n",
    "-look at compund words (e.g. 'human rights')\n",
    "-give option to SUM word counts instead of treating words separately\n",
    "-give possibility to normalize word counts"
   ]
  },
  {
   "cell_type": "code",
   "execution_count": 12,
   "metadata": {
    "collapsed": false
   },
   "outputs": [],
   "source": [
    "%matplotlib inline"
   ]
  },
  {
   "cell_type": "code",
   "execution_count": 13,
   "metadata": {
    "collapsed": false
   },
   "outputs": [],
   "source": [
    "from bigbang.archive import Archive\n",
    "import bigbang.parse as parse\n",
    "import bigbang.graph as graph\n",
    "import bigbang.mailman as mailman\n",
    "import bigbang.process as process\n",
    "import networkx as nx\n",
    "import matplotlib.pyplot as plt\n",
    "import pandas as pd\n",
    "from pprint import pprint as pp\n",
    "import pytz\n",
    "import numpy as np\n",
    "import math\n",
    "import nltk\n",
    "from itertools import repeat\n",
    "from nltk.stem.lancaster import LancasterStemmer\n",
    "st = LancasterStemmer()\n",
    "from nltk.corpus import stopwords\n",
    "import re\n",
    "import csv"
   ]
  },
  {
   "cell_type": "code",
   "execution_count": 14,
   "metadata": {
    "collapsed": false
   },
   "outputs": [],
   "source": [
    "#insert a list of the urls of downloaded mailing lists that you want to include in the analysis. \n",
    "#data will be merged: multiple mailing lists are treated as a unique corpus\n",
    "#e.g. urls  = [\"https://mm.icann.org/pipermail/cc-humanrights/\", \n",
    "#              \"https://mm.icann.org/pipermail/euro-board/\"]\n",
    "\n",
    "urls = [\"https://mm.icann.org/pipermail/cc-humanrights/\", \n",
    "        \"https://mm.icann.org/pipermail/euro-board/\"]\n",
    "\n",
    "\n",
    "archives= [Archive(url,archive_dir=\"../archives\") for url in urls]"
   ]
  },
  {
   "cell_type": "code",
   "execution_count": 15,
   "metadata": {
    "collapsed": false
   },
   "outputs": [],
   "source": [
    "#insert a list of *single* words to be tracked e.g. checkwords = ['rights', 'economy', 'human']\n",
    "checkwords = [\"internet\",\"right\",\"human\"]\n",
    "\n",
    "\n",
    "\n",
    "#to stem or not to stem? \n",
    "#if stem is set to True, then checkwords should be stemmed words (no plurals, no suffixes, etc.)\n",
    "#if stem is set to False, then checkwords are searched for their literal spelling\n",
    "stem = False\n",
    "\n",
    "\n",
    "#extension: filter by date?"
   ]
  },
  {
   "cell_type": "code",
   "execution_count": 17,
   "metadata": {
    "collapsed": false
   },
   "outputs": [
    {
     "name": "stdout",
     "output_type": "stream",
     "text": [
      "Analyzing 1 mailing list, which contains 711\n",
      "Analyzed 0 emails...\n",
      "Analyzing 2 mailing list, which contains 108\n",
      "FINISHED!\n"
     ]
    }
   ],
   "source": [
    "#count the occurrences of the selected checkwords in the body of emails\n",
    "#---may take a while!\n",
    "df = pd.DataFrame(columns=[\"MessageId\",\"Body\",\"Date\",\"From\",\"In-Reply-To\",\"Count\"])\n",
    "j = 0\n",
    "import math\n",
    "for i in range(len(archives)):\n",
    "    print \"Analyzing \"+str(i+1)+\" mailing list, which contains \"+str(len(archives[i].data))\n",
    "    for row in archives[i].data.iterrows():\n",
    "        if math.fmod(j,1000) == 0: print \"Analyzed \"+str(j)+\" emails...\"\n",
    "        j +=1\n",
    "        try: \n",
    "            w = row[1][\"Body\"].replace(\"'\", \"\")\n",
    "            k = re.sub(r'[^\\w]', ' ', w)\n",
    "            k = k.lower()\n",
    "            t = nltk.tokenize.word_tokenize(k)\n",
    "            subdict = {}\n",
    "            words_count = {}\n",
    "            for word in checkwords:\n",
    "                words_count[word] = 0\n",
    "            for g in t:\n",
    "                if stem: \n",
    "                    try:\n",
    "                        word = st.stem(g)\n",
    "                    except:\n",
    "                        print \"Error while stemming the word \"+g\n",
    "                        pass\n",
    "                else: word = g\n",
    "                if word in checkwords:\n",
    "                    words_count[word] += 1\n",
    "            subdict[\"MessageId\"] = row[0]\n",
    "            subdict[\"Body\"] = row[1][\"Body\"]\n",
    "            subdict[\"Date\"] = row[1][\"Date\"]\n",
    "            subdict[\"From\"] = row[1][\"From\"]\n",
    "            subdict[\"In-Reply-To\"] = row[1][\"In-Reply-To\"]\n",
    "            subdict[\"WordCount\"] = words_count\n",
    "            df = df.append(subdict,ignore_index=True)\n",
    "        except:\n",
    "            if row[1][\"Body\"] is None: \n",
    "                print 'Detected an email with an empty Body field...Skipping it'\n",
    "            else: print 'error'\n",
    "print 'FINISHED!'"
   ]
  },
  {
   "cell_type": "code",
   "execution_count": 41,
   "metadata": {
    "collapsed": false
   },
   "outputs": [
    {
     "name": "stdout",
     "output_type": "stream",
     "text": [
      "Saving data for checkword internet\n",
      "0\n",
      "1000\n",
      "2000\n",
      "3000\n",
      "4000\n",
      "5000\n",
      "6000\n",
      "7000\n",
      "8000\n",
      "9000\n",
      "10000\n",
      "11000\n",
      "12000\n",
      "13000\n",
      "14000\n",
      "15000\n",
      "16000\n",
      "Saving data for checkword right\n",
      "0\n",
      "1000\n",
      "2000\n",
      "3000\n",
      "4000\n",
      "5000\n",
      "6000\n",
      "7000\n",
      "8000\n",
      "9000\n",
      "10000\n",
      "11000\n",
      "12000\n",
      "13000\n",
      "14000\n",
      "15000\n",
      "16000\n",
      "Saving data for checkword human\n",
      "0\n",
      "1000\n",
      "2000\n",
      "3000\n",
      "4000\n",
      "5000\n",
      "6000\n",
      "7000\n",
      "8000\n",
      "9000\n",
      "10000\n",
      "11000\n",
      "12000\n",
      "13000\n",
      "14000\n",
      "15000\n",
      "16000\n"
     ]
    }
   ],
   "source": [
    "#save each email in a file based on which checkword it contains. good for doing some qualitative analysis\n",
    "\n",
    "#set the path where the data are to be saved\n",
    "path = 'c:/users/davide/bigbang/'\n",
    "\n",
    "\n",
    "for word in checkwords:\n",
    "    print \"Saving data for checkword \"+word+\"...\"\n",
    "    file_f = open(path+word+'.csv', \"wb\")\n",
    "    file_w = csv.writer(file_f)\n",
    "    for row in df.iterrows():\n",
    "        if row[1][\"WordCount\"][word] != 0:\n",
    "            file_w.writerow(row[1])\n",
    "    file_f.close()"
   ]
  },
  {
   "cell_type": "code",
   "execution_count": 43,
   "metadata": {
    "collapsed": false
   },
   "outputs": [],
   "source": [
    "#create list of month based on time distribution of emails\n",
    "start_date = df.iloc[0][\"Date\"]\n",
    "end_date = df.iloc[len(df.index)-1][\"Date\"]\n",
    "total_month = (end_date.year - start_date.year)*12 + (end_date.month-start_date.month+1)\n",
    "k_month = []\n",
    "temp_year = start_date.year\n",
    "temp_month = start_date.month\n",
    "for i in range(total_month):\n",
    "    k_month.append((temp_year, temp_month))\n",
    "    if temp_month == 12:\n",
    "        temp_year += 1\n",
    "        temp_month = 0\n",
    "    temp_month += 1"
   ]
  },
  {
   "cell_type": "code",
   "execution_count": 44,
   "metadata": {
    "collapsed": false
   },
   "outputs": [],
   "source": [
    "#create dictionary of words and occurrences by month\n",
    "word_time_dict = {}\n",
    "for word in checkwords:\n",
    "    word_time_dict[word] = {}\n",
    "for row in df.iterrows():\n",
    "    for word in checkwords:\n",
    "        if (row[1]['Date'].year, row[1]['Date'].month) not in word_time_dict[word]:\n",
    "            word_time_dict[word][(row[1]['Date'].year, row[1]['Date'].month)] = row[1][\"WordCount\"][word]\n",
    "        else:\n",
    "            word_time_dict[word][(row[1]['Date'].year, row[1]['Date'].month)] += row[1][\"WordCount\"][word]\n",
    "word_by_month = {}\n",
    "for word in checkwords:\n",
    "    word_by_month[word] = []\n",
    "for item in k_month:\n",
    "    for word in checkwords:\n",
    "        if item in word_time_dict[word]:\n",
    "            word_by_month[word].append(word_time_dict[word][item])\n",
    "        else:\n",
    "            word_by_month[word].append(0)\n",
    "\n"
   ]
  },
  {
   "cell_type": "code",
   "execution_count": 48,
   "metadata": {
    "collapsed": false
   },
   "outputs": [
    {
     "name": "stdout",
     "output_type": "stream",
     "text": [
      "[0,0,0,2,2,0,0,2,0,0,0,0,0,0,0,0,0,0,0,0,0,0,0,0,0,0,0,0,0,0,0,0,0,0,0,0,0,0,0,0,0,3,0,25,1,0,5,8,21,2,0,0,0,0,2,0,0,4,0,3,2,4,1,4,9,5,0,0,0,0,1,66,0,4,0,5,9,0,3,0,0,0,4,1,0,0,0,1,2,0,1,0,0,2,0,1,0,0,2,2,2,0,0,0,0,0,3,0,3,0,7,0,4,1,0,1,0,0,0,4,0,0,4,6,2,0,0,0,4,0,0,4,4,3,0,0,5,5,1,1,1,14,7,4,1,0,0,1,0,0,0,0,0,0,0,0,0,0,0], x, [12,18,0,0,4,2,6,0,12,0,0,0,3,6,20,18,14,8,0,27,2,8,14,2,0,10,18,74,12,16,10,2,12,44,5,12,0,6,4,9,0,0,26,25,17,1,18,18,22,21,2,5,21,22,17,7,10,28,15,27,12,13,89,42,71,52,6,12,0,0,33,39,17,0,14,26,23,28,7,5,0,30,34,38,28,11,7,110,82,82,88,21,36,32,34,19,32,26,74,24,22,29,17,52,16,45,56,9,49,45,147,15,36,38,28,59,106,46,21,44,10,41,50,88,52,54,36,30,30,56,139,59,49,21,18,54,41,48,101,28,35,7,62,83,10,20,88,27,11,0,15,0,16,13,3,0,0,1,12], x, [0,0,0,0,0,0,0,0,0,0,0,0,0,0,2,0,0,0,0,0,0,0,0,0,0,0,4,4,0,0,0,0,0,0,0,1,0,0,0,0,0,0,0,2,0,0,1,0,0,0,0,0,0,1,0,0,0,0,0,0,0,0,2,0,0,1,0,0,0,0,0,0,0,0,0,0,0,0,1,2,0,0,0,3,0,0,0,7,0,1,1,0,2,4,2,0,0,0,3,0,0,0,0,0,0,4,2,0,0,0,3,1,3,0,0,0,4,1,0,0,0,0,0,0,0,3,3,0,0,2,1,20,0,3,0,2,2,0,0,1,2,0,0,2,0,2,3,0,5,0,0,0,0,0,0,0,0,0,0]\n"
     ]
    },
    {
     "data": {
      "text/plain": [
       "<matplotlib.text.Text at 0x10f8dcf0>"
      ]
     },
     "execution_count": 48,
     "metadata": {},
     "output_type": "execute_result"
    },
    {
     "data": {
      "image/png": "[encoded data removed]",
      "text/plain": [
       "<matplotlib.figure.Figure at 0x10e82cb0>"
      ]
     },
     "metadata": {},
     "output_type": "display_data"
    }
   ],
   "source": [
    "#plot the word trend(s) against months\n",
    "x = range(1,total_month+1)\n",
    "str_to_eval = \"\"\n",
    "for word in checkwords:\n",
    "    str_to_eval += \"[\"+\",\".join(str(y) for y in word_by_month[word])+\"], x, \"\n",
    "str_to_eval = str_to_eval[:-5]\n",
    "eval(\"plt.plot(x,\"+str_to_eval+\")\")\n",
    "plt.xlabel(\"month\")"
   ]
  },
  {
   "cell_type": "code",
   "execution_count": null,
   "metadata": {
    "collapsed": false
   },
   "outputs": [],
   "source": []
  },
  {
   "cell_type": "code",
   "execution_count": null,
   "metadata": {
    "collapsed": false
   },
   "outputs": [],
   "source": []
  },
  {
   "cell_type": "code",
   "execution_count": null,
   "metadata": {
    "collapsed": false
   },
   "outputs": [],
   "source": []
  }
 ],
 "metadata": {
  "kernelspec": {
   "display_name": "Python 2",
   "language": "python",
   "name": "python2"
  },
  "language_info": {
   "codemirror_mode": {
    "name": "ipython",
    "version": 2
   },
   "file_extension": ".py",
   "mimetype": "text/x-python",
   "name": "python",
   "nbconvert_exporter": "python",
   "pygments_lexer": "ipython2",
   "version": "2.7.11"
  }
 },
 "nbformat": 4,
 "nbformat_minor": 0
}
