{
 "cells": [
  {
   "cell_type": "markdown",
   "metadata": {},
   "source": [
    "<b>This notebook analyses senders, repliers and interactions.</b>\n",
    "\n",
    "What it does:\n",
    "-it computes and plots the top-senders (= people sending mails), top-repliers (= people replying to mails), top-dyads (= interaction between repliers and receivers)\n",
    "\n",
    "Parameters to set options:\n",
    "-set how many top senders / repliers / dyads to print and plot, by setting the variables 'n_top_senders', 'n_top_repliers', 'n_top_dyads'\n"
   ]
  },
  {
   "cell_type": "code",
   "execution_count": 5,
   "metadata": {
    "collapsed": false
   },
   "outputs": [],
   "source": [
    "%matplotlib inline"
   ]
  },
  {
   "cell_type": "code",
   "execution_count": 12,
   "metadata": {
    "collapsed": false
   },
   "outputs": [],
   "source": [
    "import bigbang.mailman as mailman\n",
    "from bigbang.archive import load as load_archive\n",
    "import bigbang.graph as graph\n",
    "import bigbang.process as process\n",
    "from bigbang.parse import get_date\n",
    "from bigbang.archive import Archive\n",
    "import bigbang.twopeople as twoppl\n",
    "reload(process)\n",
    "import pandas as pd\n",
    "import datetime\n",
    "import matplotlib.pyplot as plt\n",
    "import numpy as np\n",
    "import math\n",
    "import pytz\n",
    "import pickle\n",
    "import os\n",
    "pd.options.display.mpl_style = 'default' # pandas has a set of preferred graph formatting options"
   ]
  },
  {
   "cell_type": "code",
<<<<<<< HEAD
   "execution_count": 25,
=======
   "execution_count": 3,
>>>>>>> 1eadedc363f373d22216a5d657f980315f776158
   "metadata": {
    "collapsed": false
   },
   "outputs": [
    {
     "name": "stderr",
     "output_type": "stream",
     "text": [
<<<<<<< HEAD
      "Opening 0 archive files\n"
     ]
    },
    {
     "ename": "MissingDataException",
     "evalue": "'No messages in archives under ge. Did you run the collect_mail.py script?'",
     "output_type": "error",
     "traceback": [
      "\u001b[0;31m---------------------------------------------------------------------------\u001b[0m",
      "\u001b[0;31mMissingDataException\u001b[0m                      Traceback (most recent call last)",
      "\u001b[0;32m<ipython-input-25-7a36b708609e>\u001b[0m in \u001b[0;36m<module>\u001b[0;34m()\u001b[0m\n\u001b[1;32m      7\u001b[0m \u001b[0;34m\u001b[0m\u001b[0m\n\u001b[1;32m      8\u001b[0m \u001b[0;34m\u001b[0m\u001b[0m\n\u001b[0;32m----> 9\u001b[0;31m \u001b[0marchives\u001b[0m\u001b[0;34m=\u001b[0m \u001b[0;34m[\u001b[0m\u001b[0mmailman\u001b[0m\u001b[0;34m.\u001b[0m\u001b[0mopen_list_archives\u001b[0m\u001b[0;34m(\u001b[0m\u001b[0murl\u001b[0m\u001b[0;34m)\u001b[0m \u001b[0;32mfor\u001b[0m \u001b[0murl\u001b[0m \u001b[0;32min\u001b[0m \u001b[0murls\u001b[0m\u001b[0;34m]\u001b[0m\u001b[0;34m\u001b[0m\u001b[0m\n\u001b[0m\u001b[1;32m     10\u001b[0m \u001b[0marchives\u001b[0m \u001b[0;34m=\u001b[0m \u001b[0mpd\u001b[0m\u001b[0;34m.\u001b[0m\u001b[0mconcat\u001b[0m\u001b[0;34m(\u001b[0m\u001b[0marchives\u001b[0m\u001b[0;34m)\u001b[0m\u001b[0;34m\u001b[0m\u001b[0m\n",
      "\u001b[0;32m/Users/yunkangyang/bigbang/bigbang/mailman.pyc\u001b[0m in \u001b[0;36mopen_list_archives\u001b[0;34m(url, archive_dir, mbox)\u001b[0m\n\u001b[1;32m    258\u001b[0m                 (\"No messages in %s under %s. Did you run the \"\n\u001b[1;32m    259\u001b[0m                  \"collect_mail.py script?\") %\n\u001b[0;32m--> 260\u001b[0;31m                 (archive_dir, list_name))\n\u001b[0m\u001b[1;32m    261\u001b[0m \u001b[0;34m\u001b[0m\u001b[0m\n\u001b[1;32m    262\u001b[0m     \u001b[0;32mreturn\u001b[0m \u001b[0mmessages_to_dataframe\u001b[0m\u001b[0;34m(\u001b[0m\u001b[0mmessages\u001b[0m\u001b[0;34m)\u001b[0m\u001b[0;34m\u001b[0m\u001b[0m\n",
      "\u001b[0;31mMissingDataException\u001b[0m: 'No messages in archives under ge. Did you run the collect_mail.py script?'"
=======
      "c:\\users\\davide\\bigbang\\bigbang\\archive.py:73: FutureWarning: sort(columns=....) is deprecated, use sort_values(by=.....)\n",
      "  self.data.sort(columns='Date', inplace=True)\n"
>>>>>>> 1eadedc363f373d22216a5d657f980315f776158
     ]
    }
   ],
   "source": [
    "#insert one or more urls of the mailing lists you want to include in the analysis\n",
    "#(if more mailing lists are included, the data are aggregated and treated as a single object of analysis)\n",
    "\n",
    "urls = [\"http://mm.icann.org/pipermail/ge/\"]\n",
    "\n",
    "\n",
<<<<<<< HEAD
    "\n",
    "\n",
    "archives= [mailman.open_list_archives(url, archive_dir = '') for url in urls]\n",
=======
    "try:\n",
    "    arch_paths =[]\n",
    "    for url in urls:\n",
    "        arch_paths.append('../archives/'+url[:-1].replace('://','_/')+'.csv')\n",
    "    archives = [load_archive(arch_path).data for arch_path in arch_paths]\n",
    "except:\n",
    "    arch_paths =[]\n",
    "    for url in urls:\n",
    "        arch_paths.append('../archives/'+url[:-1].replace('//','/')+'.csv')\n",
    "    archives = [load_archive(arch_path).data for arch_path in arch_paths]\n",
>>>>>>> 1eadedc363f373d22216a5d657f980315f776158
    "archives = pd.concat(archives)"
   ]
  },
  {
   "cell_type": "markdown",
   "metadata": {},
   "source": [
    "Let's compute and plot the top senders"
   ]
  },
  {
   "cell_type": "code",
   "execution_count": null,
   "metadata": {
    "collapsed": false,
    "scrolled": true
   },
   "outputs": [],
   "source": [
    "#compute and plot top senders (people sending out emails)\n",
    "\n",
    "\n",
    "#set the number of top senders to be displayed\n",
    "n_top_senders = 5\n",
    "\n",
    "\n",
    "\n",
    "\n",
    "activity = Archive.get_activity(Archive(archives))\n",
    "tot_activity = activity.sum(0)\n",
    "tot_activity.sort()\n",
    "print tot_activity[-n_top_senders:]\n",
    "tot_activity[-n_top_senders:].plot(kind = 'barh', width = 1)"
   ]
  },
  {
   "cell_type": "code",
   "execution_count": null,
   "metadata": {
    "collapsed": false
   },
   "outputs": [],
   "source": [
    "#compute replies list (sender+replier)\n",
    "arc_data = Archive(archives).data\n",
    "from_users = arc_data[['From']]\n",
    "to_users = arc_data[arc_data['In-Reply-To'] > 0][['From','Date','In-Reply-To']]\n",
    "replies = pd.merge(from_users, to_users, how='inner', \n",
    "                   right_on='In-Reply-To',left_index=True,\n",
    "                   suffixes=['_original','_response'])"
   ]
  },
  {
   "cell_type": "markdown",
   "metadata": {},
   "source": [
    "Let's compute and plot the top repliers"
   ]
  },
  {
   "cell_type": "code",
   "execution_count": null,
   "metadata": {
    "collapsed": false
   },
   "outputs": [],
   "source": [
    "#compute and plot top repliers (people responding to mails)\n",
    "\n",
    "\n",
    "#set the number of top repliers to be displayed\n",
    "n_top_repliers = 10\n",
    "\n",
    "\n",
    "\n",
    "\n",
    "from collections import defaultdict\n",
    "repliers_count = defaultdict(int)\n",
    "for reply in replies['From_response']:\n",
    "    repliers_count[reply] += 1\n",
    "repliers_count = sorted(repliers_count.iteritems(), key = lambda (k,v):(v,k))\n",
    "for replier_count in repliers_count[-n_top_repliers:]:\n",
    "    print replier_count[0]+'  '+str(replier_count[1]) \n",
    "repliers_count = pd.DataFrame.from_records(repliers_count, index = 0)\n",
    "repliers_count[-n_top_repliers:].plot(kind = 'barh', width = 1)"
   ]
  },
  {
   "cell_type": "markdown",
   "metadata": {},
   "source": [
    "Let's compute and plot the top-dyads"
   ]
  },
  {
   "cell_type": "code",
   "execution_count": null,
   "metadata": {
    "collapsed": false
   },
   "outputs": [],
   "source": [
    "#compute and plot top dyads (pairs of replier-receiver)\n",
    "\n",
    "\n",
    "#select the number of top dyads to be desplayed\n",
    "n_top_dyads = 10\n",
    "\n",
    "\n",
    "\n",
    "dyads = twoppl.panda_allpairs(replies, twoppl.unique_pairs(replies))\n",
    "dyads = dyads.sort(\"num_replies\", ascending = False)\n",
    "print dyads[:n_top_dyads][\"A\"]+' '+dyads[:n_top_dyads][\"B\"]+' '+str(dyads[:n_top_dyads][\"num_replies\"])\n",
    "dyads['dyad'] = dyads['A']+dyads['B']\n",
    "dyads[:n_top_dyads].plot(kind = 'barh', width = 1, x = 'dyad', y = 'num_replies')"
   ]
  },
  {
   "cell_type": "code",
   "execution_count": null,
   "metadata": {
    "collapsed": true
   },
   "outputs": [],
   "source": []
  }
 ],
 "metadata": {
  "kernelspec": {
   "display_name": "Python 2",
   "language": "python",
   "name": "python2"
  },
  "language_info": {
   "codemirror_mode": {
    "name": "ipython",
    "version": 2
   },
   "file_extension": ".py",
   "mimetype": "text/x-python",
   "name": "python",
   "nbconvert_exporter": "python",
   "pygments_lexer": "ipython2",
   "version": "2.7.12"
  }
 },
 "nbformat": 4,
 "nbformat_minor": 0
}
