{
 "cells": [
  {
   "cell_type": "markdown",
   "metadata": {},
   "source": [
    "<b>This notebook analyses senders, repliers and interactions.</b>\n",
    "\n",
    "What it does:\n",
    "-it computes and plots the top-senders (= people sending mails), top-repliers (= people replying to mails), top-dyads (= interaction between repliers and receivers)\n",
    "\n",
    "Parameters to set options:\n",
    "-set how many top senders / repliers / dyads to print and plot, by setting the variables 'n_top_senders', 'n_top_repliers', 'n_top_dyads'\n"
   ]
  },
  {
   "cell_type": "code",
   "execution_count": 1,
   "metadata": {
    "collapsed": true
   },
   "outputs": [],
   "source": [
    "%matplotlib inline"
   ]
  },
  {
   "cell_type": "code",
   "execution_count": 2,
   "metadata": {
    "collapsed": false
   },
   "outputs": [
    {
     "name": "stderr",
     "output_type": "stream",
     "text": [
      "C:\\Anaconda2\\lib\\site-packages\\IPython\\core\\interactiveshell.py:2885: FutureWarning: \n",
      "mpl_style had been deprecated and will be removed in a future version.\n",
      "Use `matplotlib.pyplot.style.use` instead.\n",
      "\n",
      "  exec(code_obj, self.user_global_ns, self.user_ns)\n"
     ]
    }
   ],
   "source": [
    "import bigbang.mailman as mailman\n",
    "import bigbang.graph as graph\n",
    "import bigbang.process as process\n",
    "from bigbang.parse import get_date\n",
    "from bigbang.archive import Archive\n",
    "import bigbang.twopeople as twoppl\n",
    "reload(process)\n",
    "import pandas as pd\n",
    "import datetime\n",
    "import matplotlib.pyplot as plt\n",
    "import numpy as np\n",
    "import math\n",
    "import pytz\n",
    "import pickle\n",
    "import os\n",
    "pd.options.display.mpl_style = 'default' # pandas has a set of preferred graph formatting options"
   ]
  },
  {
   "cell_type": "code",
   "execution_count": 9,
   "metadata": {
    "collapsed": false
   },
   "outputs": [
    {
     "name": "stdout",
     "output_type": "stream",
     "text": [
      "Opening 19 archive files\n",
      "Opening 5 archive files\n",
      "Opening 19 archive files\n"
     ]
    }
   ],
   "source": [
    "#insert one or more urls of the mailing lists you want to include in the analysis\n",
    "#(if more mailing lists are included, the data are aggregated and treated as a single object of analysis)\n",
    "\n",
    "urls = [\"http://mm.icann.org/pipermail/cc-humanrights/\", \n",
    "        \"http://mm.icann.org/pipermail/wp4/\", \n",
    "        \"http://mm.icann.org/pipermail/ge/\"]\n",
    "\n",
    "\n",
    "archives= [mailman.open_list_archives(url) for url in urls]\n",
    "archives = pd.concat(archives)"
   ]
  },
  {
   "cell_type": "markdown",
   "metadata": {},
   "source": [
    "Let's compute and plot the top senders"
   ]
  },
  {
   "cell_type": "code",
   "execution_count": 145,
   "metadata": {
    "collapsed": false,
    "scrolled": true
   },
   "outputs": [
    {
     "name": "stderr",
     "output_type": "stream",
     "text": [
      "C:\\Anaconda2\\lib\\site-packages\\ipykernel\\__main__.py:11: FutureWarning: sort is deprecated, use sort_values(inplace=True) for INPLACE sorting\n"
     ]
    },
    {
     "name": "stdout",
     "output_type": "stream",
     "text": [
      "From\n",
      "rafik.dammak at gmail.com (Rafik Dammak)                    33.0\n",
      "stephanie.perrin at mail.utoronto.ca (Stephanie Perrin)     35.0\n",
      "mariliamaciel at gmail.com (Marilia Maciel)                 47.0\n",
      "maryam.bakoshi at icann.org (Maryam Bakoshi)                62.0\n",
      "niels at article19.org (Niels ten Oever)                   189.0\n",
      "dtype: float64\n"
     ]
    },
    {
     "data": {
      "text/plain": [
       "<matplotlib.axes._subplots.AxesSubplot at 0x15a93f30>"
      ]
     },
     "execution_count": 145,
     "metadata": {},
     "output_type": "execute_result"
    },
    {
     "data": {
      "image/png": "[encoded data removed]",
      "text/plain": [
       "<matplotlib.figure.Figure at 0x15aa8f30>"
      ]
     },
     "metadata": {},
     "output_type": "display_data"
    }
   ],
   "source": [
    "#compute and plot top senders (people sending out emails)\n",
    "\n",
    "\n",
    "#set the number of top senders to be displayed\n",
    "n_top_senders = 5\n",
    "\n",
    "\n",
    "\n",
    "\n",
    "activity = Archive.get_activity(Archive(archives))\n",
    "tot_activity = activity.sum(0)\n",
    "tot_activity.sort()\n",
    "print tot_activity[-n_top_senders:]\n",
    "tot_activity[-n_top_senders:].plot(kind = 'barh', width = 1)"
   ]
  },
  {
   "cell_type": "code",
   "execution_count": 111,
   "metadata": {
    "collapsed": false
   },
   "outputs": [],
   "source": [
    "#compute replies list (sender+replier)\n",
    "arc_data = Archive(archives).data\n",
    "from_users = arc_data[['From']]\n",
    "to_users = arc_data[arc_data['In-Reply-To'] > 0][['From','Date','In-Reply-To']]\n",
    "replies = pd.merge(from_users, to_users, how='inner', \n",
    "                   right_on='In-Reply-To',left_index=True,\n",
    "                   suffixes=['_original','_response'])"
   ]
  },
  {
   "cell_type": "markdown",
   "metadata": {},
   "source": [
    "Let's compute and plot the top repliers"
   ]
  },
  {
   "cell_type": "code",
   "execution_count": 117,
   "metadata": {
    "collapsed": false
   },
   "outputs": [
    {
     "name": "stdout",
     "output_type": "stream",
     "text": [
      "wjdrake at gmail.com (William Drake)  11\n",
      "tatiana.tropina at gmail.com (Tatiana Tropina)  12\n",
      "avri at acm.org (Avri Doria)  14\n",
      "Lee.HIBBARD at coe.int (HIBBARD Lee)  15\n",
      "mshears at cdt.org (Matthew Shears)  17\n",
      "michele at blacknight.com (Michele Neylon - Blacknight)  21\n",
      "rafik.dammak at gmail.com (Rafik Dammak)  30\n",
      "mariliamaciel at gmail.com (Marilia Maciel)  32\n",
      "stephanie.perrin at mail.utoronto.ca (Stephanie Perrin)  35\n",
      "niels at article19.org (Niels ten Oever)  91\n"
     ]
    },
    {
     "data": {
      "text/plain": [
       "<matplotlib.axes._subplots.AxesSubplot at 0x149660d0>"
      ]
     },
     "execution_count": 117,
     "metadata": {},
     "output_type": "execute_result"
    },
    {
     "data": {
      "image/png": "[encoded data removed]",
      "text/plain": [
       "<matplotlib.figure.Figure at 0x11f14270>"
      ]
     },
     "metadata": {},
     "output_type": "display_data"
    }
   ],
   "source": [
    "#compute and plot top repliers (people responding to mails)\n",
    "\n",
    "\n",
    "#set the number of top repliers to be displayed\n",
    "n_top_repliers = 10\n",
    "\n",
    "\n",
    "\n",
    "\n",
    "from collections import defaultdict\n",
    "repliers_count = defaultdict(int)\n",
    "for reply in replies['From_response']:\n",
    "    repliers_count[reply] += 1\n",
    "repliers_count = sorted(repliers_count.iteritems(), key = lambda (k,v):(v,k))\n",
    "for replier_count in repliers_count[-n_top_repliers:]:\n",
    "    print replier_count[0]+'  '+str(replier_count[1]) \n",
    "repliers_count = pd.DataFrame.from_records(repliers_count, index = 0)\n",
    "repliers_count[-n_top_repliers:].plot(kind = 'barh', width = 1)"
   ]
  },
  {
   "cell_type": "markdown",
   "metadata": {},
   "source": [
    "Let's compute and plot the top-dyads"
   ]
  },
  {
   "cell_type": "code",
   "execution_count": 10,
   "metadata": {
    "collapsed": false
   },
   "outputs": [
    {
     "ename": "NameError",
     "evalue": "name 'replies' is not defined",
     "output_type": "error",
     "traceback": [
      "\u001b[1;31m---------------------------------------------------------------------------\u001b[0m",
      "\u001b[1;31mNameError\u001b[0m                                 Traceback (most recent call last)",
      "\u001b[1;32m<ipython-input-10-8874cbc68a82>\u001b[0m in \u001b[0;36m<module>\u001b[1;34m()\u001b[0m\n\u001b[0;32m      7\u001b[0m \u001b[1;33m\u001b[0m\u001b[0m\n\u001b[0;32m      8\u001b[0m \u001b[1;33m\u001b[0m\u001b[0m\n\u001b[1;32m----> 9\u001b[1;33m \u001b[0mdyads\u001b[0m \u001b[1;33m=\u001b[0m \u001b[0mtwoppl\u001b[0m\u001b[1;33m.\u001b[0m\u001b[0mpanda_allpairs\u001b[0m\u001b[1;33m(\u001b[0m\u001b[0mreplies\u001b[0m\u001b[1;33m,\u001b[0m \u001b[0mtwoppl\u001b[0m\u001b[1;33m.\u001b[0m\u001b[0munique_pairs\u001b[0m\u001b[1;33m(\u001b[0m\u001b[0mreplies\u001b[0m\u001b[1;33m)\u001b[0m\u001b[1;33m)\u001b[0m\u001b[1;33m\u001b[0m\u001b[0m\n\u001b[0m\u001b[0;32m     10\u001b[0m \u001b[0mdyads\u001b[0m \u001b[1;33m=\u001b[0m \u001b[0mdyads\u001b[0m\u001b[1;33m.\u001b[0m\u001b[0msort\u001b[0m\u001b[1;33m(\u001b[0m\u001b[1;34m\"num_replies\"\u001b[0m\u001b[1;33m,\u001b[0m \u001b[0mascending\u001b[0m \u001b[1;33m=\u001b[0m \u001b[0mFalse\u001b[0m\u001b[1;33m)\u001b[0m\u001b[1;33m\u001b[0m\u001b[0m\n\u001b[0;32m     11\u001b[0m \u001b[1;32mprint\u001b[0m \u001b[0mdyads\u001b[0m\u001b[1;33m[\u001b[0m\u001b[1;33m:\u001b[0m\u001b[0mn_top_dyads\u001b[0m\u001b[1;33m]\u001b[0m\u001b[1;33m[\u001b[0m\u001b[1;34m\"A\"\u001b[0m\u001b[1;33m]\u001b[0m\u001b[1;33m+\u001b[0m\u001b[1;34m' '\u001b[0m\u001b[1;33m+\u001b[0m\u001b[0mdyads\u001b[0m\u001b[1;33m[\u001b[0m\u001b[1;33m:\u001b[0m\u001b[0mn_top_dyads\u001b[0m\u001b[1;33m]\u001b[0m\u001b[1;33m[\u001b[0m\u001b[1;34m\"B\"\u001b[0m\u001b[1;33m]\u001b[0m\u001b[1;33m+\u001b[0m\u001b[1;34m' '\u001b[0m\u001b[1;33m+\u001b[0m\u001b[0mstr\u001b[0m\u001b[1;33m(\u001b[0m\u001b[0mdyads\u001b[0m\u001b[1;33m[\u001b[0m\u001b[1;33m:\u001b[0m\u001b[0mn_top_dyads\u001b[0m\u001b[1;33m]\u001b[0m\u001b[1;33m[\u001b[0m\u001b[1;34m\"num_replies\"\u001b[0m\u001b[1;33m]\u001b[0m\u001b[1;33m)\u001b[0m\u001b[1;33m\u001b[0m\u001b[0m\n",
      "\u001b[1;31mNameError\u001b[0m: name 'replies' is not defined"
     ]
    }
   ],
   "source": [
    "#compute and plot top dyads (pairs of replier-receiver)\n",
    "\n",
    "\n",
    "#select the number of top dyads to be desplayed\n",
    "n_top_dyads = 10\n",
    "\n",
    "\n",
    "\n",
    "dyads = twoppl.panda_allpairs(replies, twoppl.unique_pairs(replies))\n",
    "dyads = dyads.sort(\"num_replies\", ascending = False)\n",
    "print dyads[:n_top_dyads][\"A\"]+' '+dyads[:n_top_dyads][\"B\"]+' '+str(dyads[:n_top_dyads][\"num_replies\"])\n",
    "dyads['dyad'] = dyads['A']+dyads['B']\n",
    "dyads[:n_top_dyads].plot(kind = 'barh', width = 1, x = 'dyad', y = 'num_replies')"
   ]
  },
  {
   "cell_type": "code",
   "execution_count": null,
   "metadata": {
    "collapsed": true
   },
   "outputs": [],
   "source": []
  }
 ],
 "metadata": {
  "kernelspec": {
   "display_name": "Python 2",
   "language": "python",
   "name": "python2"
  },
  "language_info": {
   "codemirror_mode": {
    "name": "ipython",
    "version": 2
   },
   "file_extension": ".py",
   "mimetype": "text/x-python",
   "name": "python",
   "nbconvert_exporter": "python",
   "pygments_lexer": "ipython2",
   "version": "2.7.11"
  }
 },
 "nbformat": 4,
 "nbformat_minor": 0
}
